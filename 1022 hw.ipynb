{
 "cells": [
  {
   "cell_type": "markdown",
   "metadata": {},
   "source": [
    "### hw1"
   ]
  },
  {
   "cell_type": "code",
   "execution_count": 43,
   "metadata": {},
   "outputs": [],
   "source": [
    "class Card:\n",
    "    SUITS = [\"♠\", \"♥\", \"♣\",\"♦\"]\n",
    "    RANKS = ['A', '2', '3', '4', '5', '6', '7', '8', '9', '10', 'J', 'Q', 'K']\n",
    "    \n",
    "    def __init__(self, s ,r):\n",
    "        self.suit = s\n",
    "        self.rank = r\n",
    "        \n",
    "    def __repr__(self):\n",
    "        thecard = self.SUITS[self.suit] + self.RANKS[self.rank]\n",
    "        return thecard"
   ]
  },
  {
   "cell_type": "code",
   "execution_count": 44,
   "metadata": {},
   "outputs": [
    {
     "name": "stdout",
     "output_type": "stream",
     "text": [
      "0-12>>12\n",
      "0-3>>1\n",
      "0-12>>12\n",
      "0-3>>0\n"
     ]
    }
   ],
   "source": [
    "pip_p1 = input(\"0-12>>\")\n",
    "suit_p1 = input(\"0-3>>\")\n",
    "pip_p2 = input(\"0-12>>\")\n",
    "suit_p2 = input(\"0-3>>\")"
   ]
  },
  {
   "cell_type": "code",
   "execution_count": 45,
   "metadata": {},
   "outputs": [],
   "source": [
    "if(pip_p1 > pip_p2):\n",
    "    p = pip_p1\n",
    "    s = suit_p1\n",
    "elif(pip_p1 < pip_p2):\n",
    "    p = pip_p2\n",
    "    s = suit_p2\n",
    "elif(pip_p1 == pip_p2):\n",
    "    if(suit_p1 < suit_p2):\n",
    "        p = pip_p1\n",
    "        s = suit_p1\n",
    "    else:\n",
    "        p = pip_p2\n",
    "        s = suit_p2\n",
    "p = int(p)\n",
    "s = int(s)\n",
    "card_bigger = Card(s,p)"
   ]
  },
  {
   "cell_type": "code",
   "execution_count": 46,
   "metadata": {},
   "outputs": [
    {
     "data": {
      "text/plain": [
       "♠K"
      ]
     },
     "execution_count": 46,
     "metadata": {},
     "output_type": "execute_result"
    }
   ],
   "source": [
    "card_bigger"
   ]
  },
  {
   "cell_type": "code",
   "execution_count": 48,
   "metadata": {},
   "outputs": [
    {
     "name": "stdout",
     "output_type": "stream",
     "text": [
      "The following commands were written to file `hw1.py`:\n",
      "class Card:\n",
      "    SUITS = [\"♠\", \"♥\", \"♣\",\"♦\"]\n",
      "    RANKS = ['A', '2', '3', '4', '5', '6', '7', '8', '9', '10', 'J', 'Q', 'K']\n",
      "    \n",
      "    def __init__(self, s ,r):\n",
      "        self.suit = s\n",
      "        self.rank = r\n",
      "        \n",
      "    def __repr__(self):\n",
      "        thecard = self.SUITS[self.suit] + self.RANKS[self.rank]\n",
      "        return thecard\n",
      "pip_p1 = input(\"0-12>>\")\n",
      "suit_p1 = input(\"0-3>>\")\n",
      "pip_p2 = input(\"0-12>>\")\n",
      "suit_p2 = input(\"0-3>>\")\n",
      "if(pip_p1 > pip_p2):\n",
      "    p = pip_p1\n",
      "    s = suit_p1\n",
      "elif(pip_p1 < pip_p2):\n",
      "    p = pip_p2\n",
      "    s = suit_p2\n",
      "elif(pip_p1 == pip_p2):\n",
      "    if(suit_p1 < suit_p2):\n",
      "        p = pip_p1\n",
      "        s = suit_p1\n",
      "    else:\n",
      "        p = pip_p2\n",
      "        s = suit_p2\n",
      "p = int(p)\n",
      "s = int(s)\n",
      "card_bigger = Card(s,p)\n",
      "card_bigger\n"
     ]
    }
   ],
   "source": [
    "%save \"hw1.py\" 43 44 45 46"
   ]
  },
  {
   "cell_type": "markdown",
   "metadata": {},
   "source": [
    "### hw2"
   ]
  },
  {
   "cell_type": "code",
   "execution_count": 49,
   "metadata": {},
   "outputs": [],
   "source": [
    "from ipywidgets import interact"
   ]
  },
  {
   "cell_type": "code",
   "execution_count": 50,
   "metadata": {},
   "outputs": [],
   "source": [
    "%matplotlib inline\n",
    "import numpy as np"
   ]
  },
  {
   "cell_type": "code",
   "execution_count": 51,
   "metadata": {},
   "outputs": [],
   "source": [
    "def draw(x):\n",
    "    for i in range(x):\n",
    "        s = \"*\" * (2*i + 1)\n",
    "        print(f\"{s:^51s}\")"
   ]
  },
  {
   "cell_type": "code",
   "execution_count": 52,
   "metadata": {},
   "outputs": [
    {
     "data": {
      "application/vnd.jupyter.widget-view+json": {
       "model_id": "817a32c5fefb4664befb2e5515c7ba78",
       "version_major": 2,
       "version_minor": 0
      },
      "text/plain": [
       "interactive(children=(IntSlider(value=10, description='x', max=20), Output()), _dom_classes=('widget-interact'…"
      ]
     },
     "metadata": {},
     "output_type": "display_data"
    },
    {
     "data": {
      "text/plain": [
       "<function __main__.draw(x)>"
      ]
     },
     "execution_count": 52,
     "metadata": {},
     "output_type": "execute_result"
    }
   ],
   "source": [
    "interact(draw, x = (0,20))"
   ]
  },
  {
   "cell_type": "code",
   "execution_count": 53,
   "metadata": {},
   "outputs": [
    {
     "name": "stdout",
     "output_type": "stream",
     "text": [
      "The following commands were written to file `hw2.py`:\n",
      "from ipywidgets import interact\n",
      "get_ipython().run_line_magic('matplotlib', 'inline')\n",
      "import numpy as np\n",
      "def draw(x):\n",
      "    for i in range(x):\n",
      "        s = \"*\" * (2*i + 1)\n",
      "        print(f\"{s:^51s}\")\n",
      "interact(draw, x = (0,20))\n"
     ]
    }
   ],
   "source": [
    "%save \"hw2.py\" 49 50 51 52"
   ]
  },
  {
   "cell_type": "markdown",
   "metadata": {},
   "source": [
    "### hw3"
   ]
  },
  {
   "cell_type": "code",
   "execution_count": 54,
   "metadata": {},
   "outputs": [],
   "source": [
    "from IPython.display import display, HTML, Markdown, Image, YouTubeVideo"
   ]
  },
  {
   "cell_type": "code",
   "execution_count": 55,
   "metadata": {},
   "outputs": [],
   "source": [
    "def choose(x):\n",
    "    if(x == 1):\n",
    "        myvideo = YouTubeVideo('5QKydStn8YU')\n",
    "    elif(x == 2):\n",
    "        myvideo = YouTubeVideo('gwDoRPcPxtc')\n",
    "    elif(x == 3):\n",
    "        myvideo = YouTubeVideo('YIpNFB2rFEY')\n",
    "    display(myvideo)"
   ]
  },
  {
   "cell_type": "code",
   "execution_count": 56,
   "metadata": {},
   "outputs": [
    {
     "data": {
      "application/vnd.jupyter.widget-view+json": {
       "model_id": "67b840a4ad134905bd70f14d07d55eff",
       "version_major": 2,
       "version_minor": 0
      },
      "text/plain": [
       "interactive(children=(Dropdown(description='x', options={'study': 1, 'chill': 2, 'sorrow': 3}, value=1), Outpu…"
      ]
     },
     "metadata": {},
     "output_type": "display_data"
    },
    {
     "data": {
      "text/plain": [
       "<function __main__.choose(x)>"
      ]
     },
     "execution_count": 56,
     "metadata": {},
     "output_type": "execute_result"
    }
   ],
   "source": [
    "interact(choose, x = {\"study\":1, \"chill\":2, \"sorrow\":3})"
   ]
  },
  {
   "cell_type": "code",
   "execution_count": 57,
   "metadata": {},
   "outputs": [
    {
     "name": "stdout",
     "output_type": "stream",
     "text": [
      "The following commands were written to file `hw3.py`:\n",
      "from IPython.display import display, HTML, Markdown, Image, YouTubeVideo\n",
      "def choose(x):\n",
      "    if(x == 1):\n",
      "        myvideo = YouTubeVideo('5QKydStn8YU')\n",
      "    elif(x == 2):\n",
      "        myvideo = YouTubeVideo('gwDoRPcPxtc')\n",
      "    elif(x == 3):\n",
      "        myvideo = YouTubeVideo('YIpNFB2rFEY')\n",
      "    display(myvideo)\n",
      "interact(choose, x = {\"study\":1, \"chill\":2, \"sorrow\":3})\n"
     ]
    }
   ],
   "source": [
    "%save \"hw3.py\" 54 55 56"
   ]
  },
  {
   "cell_type": "markdown",
   "metadata": {},
   "source": [
    "### hw4"
   ]
  },
  {
   "cell_type": "code",
   "execution_count": 58,
   "metadata": {},
   "outputs": [],
   "source": [
    "mycourse = {'Mon':'programming', 'Tue':'math', 'Wed':'python'}"
   ]
  },
  {
   "cell_type": "code",
   "execution_count": 59,
   "metadata": {},
   "outputs": [],
   "source": [
    "f = open('mycourse.csv','w') "
   ]
  },
  {
   "cell_type": "code",
   "execution_count": 60,
   "metadata": {},
   "outputs": [],
   "source": [
    "for eng in mycourse.keys():\n",
    "    print(eng + ':' + mycourse[eng], file = f)   "
   ]
  },
  {
   "cell_type": "code",
   "execution_count": 61,
   "metadata": {},
   "outputs": [],
   "source": [
    "f.close()"
   ]
  },
  {
   "cell_type": "code",
   "execution_count": 62,
   "metadata": {},
   "outputs": [
    {
     "name": "stdout",
     "output_type": "stream",
     "text": [
      "Mon:programming\n",
      "Tue:math\n",
      "Wed:python\n"
     ]
    }
   ],
   "source": [
    "!type mycourse.csv"
   ]
  },
  {
   "cell_type": "code",
   "execution_count": 63,
   "metadata": {},
   "outputs": [
    {
     "name": "stdout",
     "output_type": "stream",
     "text": [
      "The following commands were written to file `hw4.py`:\n",
      "mycourse = {'Mon':'programming', 'Tue':'math', 'Wed':'python'}\n",
      "f = open('mycourse.csv','w') \n",
      "for eng in mycourse.keys():\n",
      "    print(eng + ':' + mycourse[eng], file = f)   \n",
      "f.close()\n",
      "get_ipython().system('type mycourse.csv')\n"
     ]
    }
   ],
   "source": [
    "%save \"hw4.py\" 58 59 60 61 62"
   ]
  },
  {
   "cell_type": "code",
   "execution_count": null,
   "metadata": {},
   "outputs": [],
   "source": []
  }
 ],
 "metadata": {
  "kernelspec": {
   "display_name": "Python 3",
   "language": "python",
   "name": "python3"
  },
  "language_info": {
   "codemirror_mode": {
    "name": "ipython",
    "version": 3
   },
   "file_extension": ".py",
   "mimetype": "text/x-python",
   "name": "python",
   "nbconvert_exporter": "python",
   "pygments_lexer": "ipython3",
   "version": "3.7.3"
  }
 },
 "nbformat": 4,
 "nbformat_minor": 2
}
