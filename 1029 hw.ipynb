{
 "cells": [
  {
   "cell_type": "code",
   "execution_count": 1,
   "metadata": {},
   "outputs": [],
   "source": [
    "%matplotlib inline\n",
    "\n",
    "import numpy as np\n",
    "import matplotlib.pyplot as plt\n",
    "import pandas as pd"
   ]
  },
  {
   "cell_type": "markdown",
   "metadata": {},
   "source": [
    "### HW1"
   ]
  },
  {
   "cell_type": "code",
   "execution_count": 19,
   "metadata": {},
   "outputs": [],
   "source": [
    "π = np.pi\n",
    "x = np.linspace(-2*π, 1*π, 500)\n",
    "y = np.sin(x)"
   ]
  },
  {
   "cell_type": "code",
   "execution_count": 21,
   "metadata": {},
   "outputs": [
    {
     "data": {
      "text/plain": [
       "<matplotlib.collections.PathCollection at 0x2175e6e1a20>"
      ]
     },
     "execution_count": 21,
     "metadata": {},
     "output_type": "execute_result"
    },
    {
     "data": {
      "image/png": "[encoded data removed]",
      "text/plain": [
       "<Figure size 432x288 with 1 Axes>"
      ]
     },
     "metadata": {
      "needs_background": "light"
     },
     "output_type": "display_data"
    }
   ],
   "source": [
    "plt.plot(x,y,)\n",
    "plt.scatter(x[y>0], y[y>0])\n",
    "plt.scatter(x[y<-0.5], y[y<-0.5], c='#FF235A')"
   ]
  },
  {
   "cell_type": "code",
   "execution_count": 22,
   "metadata": {},
   "outputs": [
    {
     "name": "stdout",
     "output_type": "stream",
     "text": [
      "The following commands were written to file `1029hw1.py`:\n",
      "get_ipython().run_line_magic('matplotlib', 'inline')\n",
      "\n",
      "import numpy as np\n",
      "import matplotlib.pyplot as plt\n",
      "import pandas as pd\n",
      "π = np.pi\n",
      "x = np.linspace(-2*π, 1*π, 500)\n",
      "y = np.sin(x)\n",
      "plt.plot(x,y,)\n",
      "plt.scatter(x[y>0], y[y>0])\n",
      "plt.scatter(x[y<-0.5], y[y<-0.5], c='#FF235A')\n"
     ]
    }
   ],
   "source": [
    "%save \"1029hw1.py\" 1 19 21"
   ]
  },
  {
   "cell_type": "markdown",
   "metadata": {},
   "source": [
    "### HW2"
   ]
  },
  {
   "cell_type": "code",
   "execution_count": 23,
   "metadata": {},
   "outputs": [],
   "source": [
    "import sympy as sp"
   ]
  },
  {
   "cell_type": "code",
   "execution_count": 27,
   "metadata": {},
   "outputs": [
    {
     "data": {
      "text/latex": [
       "$\\displaystyle x^{3} y + x + y^{2} + y + 15$"
      ],
      "text/plain": [
       "x**3*y + x + y**2 + y + 15"
      ]
     },
     "execution_count": 27,
     "metadata": {},
     "output_type": "execute_result"
    }
   ],
   "source": [
    "from sympy.abc import x,y\n",
    "f = x**3*y + y**2 + x + y +15\n",
    "f"
   ]
  },
  {
   "cell_type": "code",
   "execution_count": 36,
   "metadata": {},
   "outputs": [],
   "source": [
    "ANS = sp.integrate(f,(x,1,5),(y,1,5))"
   ]
  },
  {
   "cell_type": "code",
   "execution_count": 37,
   "metadata": {},
   "outputs": [
    {
     "data": {
      "text/latex": [
       "$\\displaystyle \\frac{7120}{3}$"
      ],
      "text/plain": [
       "7120/3"
      ]
     },
     "execution_count": 37,
     "metadata": {},
     "output_type": "execute_result"
    }
   ],
   "source": [
    "ANS"
   ]
  },
  {
   "cell_type": "code",
   "execution_count": 47,
   "metadata": {},
   "outputs": [
    {
     "name": "stdout",
     "output_type": "stream",
     "text": [
      ">>7120/3\n"
     ]
    }
   ],
   "source": [
    "practice = input(\">>\")"
   ]
  },
  {
   "cell_type": "code",
   "execution_count": 52,
   "metadata": {},
   "outputs": [],
   "source": [
    "trans = str(ANS)"
   ]
  },
  {
   "cell_type": "code",
   "execution_count": 53,
   "metadata": {},
   "outputs": [
    {
     "name": "stdout",
     "output_type": "stream",
     "text": [
      "correct\n"
     ]
    }
   ],
   "source": [
    "if(trans == practice):\n",
    "    print(\"correct\")\n",
    "else:\n",
    "    print(\"wrong\")"
   ]
  },
  {
   "cell_type": "code",
   "execution_count": 54,
   "metadata": {},
   "outputs": [
    {
     "name": "stdout",
     "output_type": "stream",
     "text": [
      "The following commands were written to file `1029hw2.py`:\n",
      "import sympy as sp\n",
      "from sympy.abc import x,y\n",
      "f = x**3*y + y**2 + x + y +15\n",
      "f\n",
      "ANS = sp.integrate(f,(x,1,5),(y,1,5))\n",
      "ANS\n",
      "practice = input(\">>\")\n",
      "trans = str(ANS)\n",
      "if(trans == practice):\n",
      "    print(\"correct\")\n",
      "else:\n",
      "    print(\"wrong\")\n"
     ]
    }
   ],
   "source": [
    "%save \"1029hw2.py\" 23 27 36 37 47 52 53"
   ]
  },
  {
   "cell_type": "markdown",
   "metadata": {},
   "source": [
    "### HW3"
   ]
  },
  {
   "cell_type": "code",
   "execution_count": 160,
   "metadata": {},
   "outputs": [],
   "source": [
    "f_1 = (-100*y**2 + 6*y -10)\n",
    "f_2 = (100*y**2 - 7*y +2)"
   ]
  },
  {
   "cell_type": "code",
   "execution_count": 163,
   "metadata": {},
   "outputs": [
    {
     "data": {
      "image/png": "[encoded data removed]",
      "text/plain": [
       "<Figure size 432x288 with 1 Axes>"
      ]
     },
     "metadata": {
      "needs_background": "light"
     },
     "output_type": "display_data"
    },
    {
     "data": {
      "image/png": "[encoded data removed]",
      "text/plain": [
       "<Figure size 432x288 with 1 Axes>"
      ]
     },
     "metadata": {
      "needs_background": "light"
     },
     "output_type": "display_data"
    }
   ],
   "source": [
    "sp.plot(f_1, f_2)\n",
    "for i in np.linspace(-10,10,100):\n",
    "    count = (-100*i**2+6*i-10) - (100*i**4-7*i+2)/10\n",
    "    plt.scatter(i, -count)"
   ]
  },
  {
   "cell_type": "code",
   "execution_count": 164,
   "metadata": {},
   "outputs": [
    {
     "name": "stdout",
     "output_type": "stream",
     "text": [
      "The following commands were written to file `1029hw3.py`:\n",
      "f_1 = (-100*y**2 + 6*y -10)\n",
      "f_2 = (100*y**2 - 7*y +2)\n",
      "sp.plot(f_1, f_2)\n",
      "for i in np.linspace(-10,10,100):\n",
      "    count = (-100*i**2+6*i-10) - (100*i**4-7*i+2)/10\n",
      "    plt.scatter(i, -count)\n"
     ]
    }
   ],
   "source": [
    "%save \"1029hw3.py\" 160 163"
   ]
  },
  {
   "cell_type": "markdown",
   "metadata": {},
   "source": [
    "### HW4"
   ]
  },
  {
   "cell_type": "code",
   "execution_count": 173,
   "metadata": {},
   "outputs": [],
   "source": [
    "weight = np.array([52,85,46,47,48])"
   ]
  },
  {
   "cell_type": "code",
   "execution_count": 174,
   "metadata": {},
   "outputs": [],
   "source": [
    "height = np.array([160,180,158,165,164])"
   ]
  },
  {
   "cell_type": "code",
   "execution_count": 175,
   "metadata": {},
   "outputs": [],
   "source": [
    "BMI = weight/((height/100)**2)"
   ]
  },
  {
   "cell_type": "code",
   "execution_count": 176,
   "metadata": {},
   "outputs": [
    {
     "data": {
      "text/plain": [
       "array([20.3125    , 26.2345679 , 18.42653421, 17.26354454, 17.84651993])"
      ]
     },
     "execution_count": 176,
     "metadata": {},
     "output_type": "execute_result"
    }
   ],
   "source": [
    "BMI"
   ]
  },
  {
   "cell_type": "code",
   "execution_count": 177,
   "metadata": {},
   "outputs": [
    {
     "data": {
      "text/plain": [
       "array([20.3125   , 26.2345679])"
      ]
     },
     "execution_count": 177,
     "metadata": {},
     "output_type": "execute_result"
    }
   ],
   "source": [
    "BMI[BMI>20]"
   ]
  },
  {
   "cell_type": "code",
   "execution_count": 178,
   "metadata": {},
   "outputs": [
    {
     "name": "stdout",
     "output_type": "stream",
     "text": [
      "The following commands were written to file `1029hw4.py`:\n",
      "weight = np.array([52,85,46,47,48])\n",
      "height = np.array([160,180,158,165,164])\n",
      "BMI = weight/((height/100)**2)\n",
      "BMI\n",
      "BMI[BMI>20]\n"
     ]
    }
   ],
   "source": [
    "%save \"1029hw4.py\" 173 174 175 176 177"
   ]
  },
  {
   "cell_type": "code",
   "execution_count": null,
   "metadata": {},
   "outputs": [],
   "source": []
  }
 ],
 "metadata": {
  "kernelspec": {
   "display_name": "Python 3",
   "language": "python",
   "name": "python3"
  },
  "language_info": {
   "codemirror_mode": {
    "name": "ipython",
    "version": 3
   },
   "file_extension": ".py",
   "mimetype": "text/x-python",
   "name": "python",
   "nbconvert_exporter": "python",
   "pygments_lexer": "ipython3",
   "version": "3.7.3"
  }
 },
 "nbformat": 4,
 "nbformat_minor": 2
}
